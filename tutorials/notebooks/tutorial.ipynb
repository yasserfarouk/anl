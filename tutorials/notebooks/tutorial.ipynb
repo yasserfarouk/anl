{
 "cells": [
  {
   "cell_type": "code",
   "execution_count": 1,
   "id": "formed-honey",
   "metadata": {
    "papermill": {
     "duration": 1.956589,
     "end_time": "2022-02-16T09:17:05.980059",
     "exception": false,
     "start_time": "2022-02-16T09:17:04.023470",
     "status": "completed"
    },
    "tags": [
     "remove_cell"
    ]
   },
   "outputs": [
    {
     "data": {
      "text/html": [
       "<style>.container { width:95% !important; }</style>"
      ],
      "text/plain": [
       "<IPython.core.display.HTML object>"
      ]
     },
     "metadata": {},
     "output_type": "display_data"
    }
   ],
   "source": [
    "%matplotlib inline\n",
    "import warnings\n",
    "warnings.filterwarnings('ignore')\n",
    "# setup disply parameters\n",
    "from matplotlib import pylab as plt\n",
    "import seaborn as sns\n",
    "from matplotlib.ticker import StrMethodFormatter\n",
    "float_formatter = StrMethodFormatter('{x:0.03f}')\n",
    "from IPython.core.display import display, HTML\n",
    "display(HTML(\"<style>.container { width:95% !important; }</style>\"))\n",
    "SMALL_SIZE = 14\n",
    "MEDIUM_SIZE = 16\n",
    "BIGGER_SIZE = 20\n",
    "\n",
    "plt.rc('font', size=SMALL_SIZE)          # controls default text sizes\n",
    "plt.rc('axes', titlesize=SMALL_SIZE)     # fontsize of the axes title\n",
    "plt.rc('axes', labelsize=MEDIUM_SIZE)    # fontsize of the x and y labels\n",
    "plt.rc('xtick', labelsize=SMALL_SIZE)    # fontsize of the tick labels\n",
    "plt.rc('ytick', labelsize=SMALL_SIZE)    # fontsize of the tick labels\n",
    "plt.rc('legend', fontsize=SMALL_SIZE)    # legend fontsize\n",
    "plt.rc('figure', titlesize=BIGGER_SIZE)  # fontsize of the figure title\n",
    "plt.rc('figure', figsize=(18, 6)) # set figure size\n",
    "plt.rc(\"animation\", html=\"html5\")\n",
    "import random\n",
    "random.seed(345)\n",
    "import numpy as np\n",
    "np.random.seed(345)\n",
    "from rich import print"
   ]
  },
  {
   "cell_type": "code",
   "execution_count": 2,
   "id": "moving-telephone",
   "metadata": {
    "papermill": {
     "duration": 0.088934,
     "end_time": "2022-02-16T09:17:06.140860",
     "exception": false,
     "start_time": "2022-02-16T09:17:06.051926",
     "status": "completed"
    },
    "tags": [
     "remove_cell"
    ]
   },
   "outputs": [],
   "source": [
    "from pathlib import Path"
   ]
  },
  {
   "cell_type": "markdown",
   "id": "30ac8155",
   "metadata": {
    "papermill": {
     "duration": 0.065939,
     "end_time": "2022-02-16T09:17:06.501888",
     "exception": false,
     "start_time": "2022-02-16T09:17:06.435949",
     "status": "completed"
    },
    "tags": []
   },
   "source": [
    "## Preparing your development environment\n",
    "\n",
    "The first step is to install the `anl` package using:\n",
    "\n",
    "```bash\n",
    "pip install anl\n",
    "```\n",
    "\n",
    "The second step in developing your agent for ANL 2024 is to download the template from [here](https://yasserfarouk.github.io/files/anl/anl.zip). Please familiarize yourself with the competition rules availabe at the [competition website](https://scml.cs.brown.edu/anl).\n",
    "\n",
    "After downloading and uncompressing the template, you should do the following steps:\n",
    "\n",
    "1. Modify the name of the single class in `myagent.py` (currently called `MyNegotiator`) to a representative name for your agent. We will use `AwsomeNegotiator` here. You should then implement your agent logic by modifying this class.\n",
    "   - Remember to change the name of the agent in the last line of the file to match your new class name (`AwsomeNegotiator`).\n",
    "   - Remember to update the `agent class` in the submission form on the  [competition website](https://scml.cs.brown.edu/anl) to `AwsomeNegotiator`.\n",
    "2. Start developing your agent as will be explained later in this tutorial\n",
    "3. You can use the following ways to test your agent:\n",
    "    - Run the following command to test your agent from the root folder of the extracted skeleton:\n",
    "      ```bash\n",
    "      python -m myagent.myagent\n",
    "      ```\n",
    "    - Use the `anl` command line utility from the root folder of the extracted skeleton:\n",
    "      ```bash\n",
    "      anl tournament2024 --path=. --competitors=\"myagent.myagnet.AwsomeNegotiator;Boulware;Conceder\"\n",
    "      ```\n",
    "      This method is more flexible as you can control all aspects of the tournament to run.\n",
    "      Use `anl tournament2024 --help`  to see all available options.\n",
    "\n",
    "    - You can directly call `anl2024_tournament()` passing your agent as one of the competitors. This is the most flexible method and will be used in this tutorial.\n"
   ]
  },
  {
   "cell_type": "markdown",
   "id": "88578a3b",
   "metadata": {
    "papermill": {
     "duration": 0.065939,
     "end_time": "2022-02-16T09:17:06.501888",
     "exception": false,
     "start_time": "2022-02-16T09:17:06.435949",
     "status": "completed"
    },
    "tags": []
   },
   "source": [
    "## Developing a negotiator\n",
    "\n",
    "Agents for the ANL competition are standard [NegMAS](https://yasserfarouk.github.io/negmas) negotiators. As such, they can be developed using any approach used to develop negotiators in NegMAS.\n",
    "\n",
    "To develop a negotiator, you need to inherit from the [SAONegotiator](https://negmas.readthedocs.io/en/latest/api/negmas.sao.SAONegotiator.html) class and implement the [__call__](https://negmas.readthedocs.io/en/latest/api/negmas.sao.SAONegotiator.html#negmas.sao.SAONegotiator.__call__) method.\n",
    "\n",
    "Here is a simple random negotiator:"
   ]
  },
  {
   "cell_type": "code",
   "execution_count": 3,
   "id": "ddbac4ff",
   "metadata": {},
   "outputs": [],
   "source": [
    "import random\n",
    "from negmas.sao import SAONegotiator, SAOResponse, ResponseType\n",
    "class MyRandomNegotiator(SAONegotiator):\n",
    "    def __call__(self, state):\n",
    "        offer = state.current_offer\n",
    "        if offer is not None and self.ufun.is_not_worse(offer, None) and random.random() < 0.25 :\n",
    "            return SAOResponse(ResponseType.ACCEPT_OFFER, offer)\n",
    "        return SAOResponse(ResponseType.REJECT_OFFER, self.nmi.random_outcomes(1)[0])"
   ]
  },
  {
   "cell_type": "markdown",
   "id": "unable-bulgaria",
   "metadata": {
    "papermill": {
     "duration": 0.065939,
     "end_time": "2022-02-16T09:17:06.501888",
     "exception": false,
     "start_time": "2022-02-16T09:17:06.435949",
     "status": "completed"
    },
    "tags": []
   },
   "source": [
    "### Testing the agent"
   ]
  },
  {
   "cell_type": "code",
   "execution_count": 4,
   "id": "detected-toilet",
   "metadata": {
    "papermill": {
     "duration": 2.126006,
     "end_time": "2022-02-16T09:17:09.068211",
     "exception": false,
     "start_time": "2022-02-16T09:17:06.942205",
     "status": "completed"
    },
    "tags": []
   },
   "outputs": [],
   "source": [
    "from anl.anl2024 import anl2024_tournament\n",
    "from anl.anl2024.negotiators import Boulware, Conceder, RVFitter"
   ]
  },
  {
   "cell_type": "code",
   "execution_count": 5,
   "id": "dynamic-breath",
   "metadata": {
    "papermill": {
     "duration": 0.216177,
     "end_time": "2022-02-16T09:17:09.817261",
     "exception": false,
     "start_time": "2022-02-16T09:17:09.601084",
     "status": "completed"
    },
    "tags": []
   },
   "outputs": [
    {
     "data": {
      "text/html": [
       "<pre style=\"white-space:pre;overflow-x:auto;line-height:normal;font-family:Menlo,'DejaVu Sans Mono',consolas,'Courier New',monospace\">Will run <span style=\"color: #008080; text-decoration-color: #008080; font-weight: bold\">12</span> negotiations on <span style=\"color: #008080; text-decoration-color: #008080; font-weight: bold\">1</span> scenarios between <span style=\"color: #008080; text-decoration-color: #008080; font-weight: bold\">2</span> competitors\n",
       "</pre>\n"
      ],
      "text/plain": [
       "Will run \u001b[1;36m12\u001b[0m negotiations on \u001b[1;36m1\u001b[0m scenarios between \u001b[1;36m2\u001b[0m competitors\n"
      ]
     },
     "metadata": {},
     "output_type": "display_data"
    },
    {
     "data": {
      "application/vnd.jupyter.widget-view+json": {
       "model_id": "afea880c65ea45f8988c9561c0885162",
       "version_major": 2,
       "version_minor": 0
      },
      "text/plain": [
       "Output()"
      ]
     },
     "metadata": {},
     "output_type": "display_data"
    },
    {
     "data": {
      "text/html": [
       "<pre style=\"white-space:pre;overflow-x:auto;line-height:normal;font-family:Menlo,'DejaVu Sans Mono',consolas,'Courier New',monospace\"></pre>\n"
      ],
      "text/plain": []
     },
     "metadata": {},
     "output_type": "display_data"
    },
    {
     "data": {
      "text/html": [
       "<pre style=\"white-space:pre;overflow-x:auto;line-height:normal;font-family:Menlo,'DejaVu Sans Mono',consolas,'Courier New',monospace\">\n",
       "</pre>\n"
      ],
      "text/plain": [
       "\n"
      ]
     },
     "metadata": {},
     "output_type": "display_data"
    },
    {
     "data": {
      "text/html": [
       "<pre style=\"white-space:pre;overflow-x:auto;line-height:normal;font-family:Menlo,'DejaVu Sans Mono',consolas,'Courier New',monospace\">             strategy     score\n",
       "<span style=\"color: #008080; text-decoration-color: #008080; font-weight: bold\">0</span>            Boulware  <span style=\"color: #008080; text-decoration-color: #008080; font-weight: bold\">0.635721</span>\n",
       "<span style=\"color: #008080; text-decoration-color: #008080; font-weight: bold\">1</span>  MyRandomNegotiator <span style=\"color: #008080; text-decoration-color: #008080; font-weight: bold\">-0.090451</span>\n",
       "</pre>\n"
      ],
      "text/plain": [
       "             strategy     score\n",
       "\u001b[1;36m0\u001b[0m            Boulware  \u001b[1;36m0.635721\u001b[0m\n",
       "\u001b[1;36m1\u001b[0m  MyRandomNegotiator \u001b[1;36m-0.090451\u001b[0m\n"
      ]
     },
     "metadata": {},
     "output_type": "display_data"
    }
   ],
   "source": [
    "results = anl2024_tournament(\n",
    "    n_scenarios=1, n_repetitions=3, nologs=True, njobs=-1,\n",
    "    competitors=[MyRandomNegotiator, Boulware]\n",
    ")"
   ]
  },
  {
   "cell_type": "markdown",
   "id": "14f57349",
   "metadata": {},
   "source": [
    "We can immediately notice that `MyRandomNegotiator` is getting a negative average advantage which means that it sometimes gets agreements that are worse than disagreement (i.e. with utility less than its reserved value). Can you guess why is this happening? How can we resolve that?\n",
    "\n",
    "You can easily check the final scores using the `final_scores` member of the returned [SimpleTournamentResults](https://negmas.readthedocs.io/en/latest/api/negmas.tournaments.SimpleTournamentResults.html) object"
   ]
  },
  {
   "cell_type": "code",
   "execution_count": 6,
   "id": "analyzed-trading",
   "metadata": {
    "papermill": {
     "duration": 0.379654,
     "end_time": "2022-02-16T09:25:58.804432",
     "exception": false,
     "start_time": "2022-02-16T09:25:58.424778",
     "status": "completed"
    },
    "scrolled": true,
    "tags": []
   },
   "outputs": [
    {
     "data": {
      "text/html": [
       "<div>\n",
       "<style scoped>\n",
       "    .dataframe tbody tr th:only-of-type {\n",
       "        vertical-align: middle;\n",
       "    }\n",
       "\n",
       "    .dataframe tbody tr th {\n",
       "        vertical-align: top;\n",
       "    }\n",
       "\n",
       "    .dataframe thead th {\n",
       "        text-align: right;\n",
       "    }\n",
       "</style>\n",
       "<table border=\"1\" class=\"dataframe\">\n",
       "  <thead>\n",
       "    <tr style=\"text-align: right;\">\n",
       "      <th></th>\n",
       "      <th>strategy</th>\n",
       "      <th>score</th>\n",
       "    </tr>\n",
       "  </thead>\n",
       "  <tbody>\n",
       "    <tr>\n",
       "      <th>0</th>\n",
       "      <td>Boulware</td>\n",
       "      <td>0.635721</td>\n",
       "    </tr>\n",
       "    <tr>\n",
       "      <th>1</th>\n",
       "      <td>MyRandomNegotiator</td>\n",
       "      <td>-0.090451</td>\n",
       "    </tr>\n",
       "  </tbody>\n",
       "</table>\n",
       "</div>"
      ],
      "text/plain": [
       "             strategy     score\n",
       "0            Boulware  0.635721\n",
       "1  MyRandomNegotiator -0.090451"
      ]
     },
     "execution_count": 6,
     "metadata": {},
     "output_type": "execute_result"
    }
   ],
   "source": [
    "results.final_scores"
   ]
  },
  {
   "cell_type": "markdown",
   "id": "13e132ef",
   "metadata": {},
   "source": [
    "The returned results are all pandas dataframes. We can use standard pandas functions to get deeper understanding of the results. Here is how to plot a KDE figure comparing different strategies in this tournament:\n"
   ]
  },
  {
   "cell_type": "code",
   "execution_count": 7,
   "id": "0aacae58-e02e-4981-bb12-890e6d55681a",
   "metadata": {},
   "outputs": [
    {
     "data": {
      "image/png": "[encoded data removed]",
      "text/plain": [
       "<Figure size 800x600 with 1 Axes>"
      ]
     },
     "metadata": {},
     "output_type": "display_data"
    }
   ],
   "source": [
    "fig, ax = plt.subplots(figsize=(8,6))\n",
    "df = results.scores\n",
    "for label, data in df.groupby('strategy'):\n",
    "    data.advantage.plot(kind=\"kde\", ax=ax, label=label)\n",
    "plt.ylabel(\"advantage\")\n",
    "plt.legend();"
   ]
  },
  {
   "cell_type": "code",
   "execution_count": 8,
   "id": "a683a365-1f2e-4f1d-89c5-e169b00b5a68",
   "metadata": {},
   "outputs": [
    {
     "data": {
      "image/png": "[encoded data removed]",
      "text/plain": [
       "<Figure size 1600x400 with 3 Axes>"
      ]
     },
     "metadata": {},
     "output_type": "display_data"
    }
   ],
   "source": [
    "fig, axs = plt.subplots(1, 3, figsize=(16,4))\n",
    "for i, col in enumerate([\"advantage\", \"welfare\", \"nash_optimality\"]):\n",
    "    results.scores.groupby(\"strategy\")[col].mean().sort_index().plot(kind=\"bar\", ax=axs[i])\n",
    "    axs[i].set_ylabel(col)"
   ]
  },
  {
   "cell_type": "markdown",
   "id": "df296a65",
   "metadata": {},
   "source": [
    "## Available helpers\n",
    "\n",
    "Our negotaitor was not so good but it examplifies the simplest method for developing a negotiator in NegMAS. For more information refer to [NegMAS Documentation](https://negmas.readthedocs.io). You develop your agent, as explained above, by implementing the `__call__` method of your class. \n",
    "\n",
    "This method, receives an [SAOState](https://negmas.readthedocs.io/en/latest/api/negmas.sao.SAOState.html) which represents the current `state` of the negotiation. The most important members of this state object are `current_offer` which gives the current offer from the partner (or `None` if this is the beginning of the negotiation) and `relative_time` which gives the relative time of the negotiation ranging between `0` and `1`.\n",
    "\n",
    "It should return an [SAOResponse](https://negmas.readthedocs.io/en/latest/api/negmas.sao.SAOResponse.html) represeting the agent's `response` which consists of two parts:\n",
    "\n",
    "1. A [ResponseType](https://negmas.readthedocs.io/en/latest/api/negmas.gb.ResponseType.html) with the following allowed values:\n",
    "    - `ResponseType.ACCEPT_OFFER`, accepts the current offer (pass the current offer as the second member of the response).\n",
    "    - `ResponseType.REJECT_OFFER`, rejects the current offer (pass you counter-offer as the second member of the response).\n",
    "    - `ResponseType.END_NEGOTIATION`, ends the negotiation immediately (pass `None` as the second member of the response).\n",
    "2. A counter offer (in case of rejection), the received offer (in case of acceptance) or `None` if ending the negotiation.\n",
    "\n",
    "The negotiator can use the following objects to help it implement its strategy:\n",
    "\n",
    "- `self.nmi` A [SAONMI](https://negmas.readthedocs.io/en/latest/api/negmas.sao.SAONMI.html) that gives you access to all the settings of this negotiation and provide some simple helpers:\n",
    "    - `n_steps`, `time_limit` The number of rounds and seconds allowed for this negotiation (`None` means no limit).\n",
    "    - `random_outcomes(n)` Samples `n` random outcomes from this negotiation.\n",
    "    - `outcome_space` The [OutcomeSpace](https://negmas.readthedocs.io/en/latest/api/negmas.outcomes.OutcomeSpace.html) of the negotiation which represent all possible agreements. In ANL 2024, this will always be of type [DiscreteCartesianOutcomeSpace](https://negmas.readthedocs.io/en/latest/api/negmas.outcomes.DiscreteCartesianOutcomeSpace.html) with a single issue.\n",
    "    - `discrete_outcomes()` A generator of all outcomes in the outcome space.\n",
    "    - `log_info()` Logs structured information for this negotiator that can be checked in the logs later (Similarily there are `log_error`, `log_warning`, `log_debug`). \n",
    "- `self.ufun` A [LinearAdditiveUtilityFunction](https://negmas.readthedocs.io/en/latest/api/negmas.preferences.LinearAdditiveUtilityFunction.html#negmas.preferences.LinearAdditiveUtilityFunction) representing the agent's own utility function. This object provides some helpful functionality including:\n",
    "   - `self.ufun.is_better(a, b)` Tests if outcome `a` is better than `b` (use `None` for disagreement). Similarily we have, `is_worse`, `is_not_worse` and `is_not_better`.\n",
    "   - `self.ufun.reserved_value` Your negotiator's reserved value (between 0 and 1). You can access this also as `self.ufun(None)`.\n",
    "   - `self.ufun(w)` Returns the utility value of the outcome `w`. It is recommended to cast this value to float (i.e. `float(self.ufun(w)`) to support probabilistic utility functions.\n",
    "   - `self.outcome_space` The [OutcomeSpace](https://negmas.readthedocs.io/en/latest/api/negmas.outcomes.OutcomeSpace.html) of the negotiation which represent all possible agreements. In ANL 2024, this will always be of type [DiscreteCartesianOutcomeSpace](https://negmas.readthedocs.io/en/latest/api/negmas.outcomes.DiscreteCartesianOutcomeSpace.html) with a single issue.\n",
    "   - `self.ufun.invert()` Returns and caches an [InverseUtilityFunction](https://negmas.readthedocs.io/en/latest/api/negmas.preferences.InverseUFun.html#negmas.preferences.InverseUFun) object which can be used to find outcomes given their utilities. The most important services provided by the InverseUtilityFunction returned are:\n",
    "       - `minmax()` returns the minimum and maximum values of the ufun (will always be (0, 1) approximately in ANL 2024).\n",
    "       - `best()`, `worst()` returns the best (worst) outcomes.\n",
    "       - `one_in()`, `some_in()` returns one (or some) outcomes within the given range of utilities.\n",
    "       - `next_better()`, `next_worse()` returns the next outcome descendingly (ascendingly) in utility value.\n",
    "- `self.opponent_ufun` A [LinearAdditiveUtilityFunction](https://negmas.readthedocs.io/en/latest/api/negmas.preferences.LinearAdditiveUtilityFunction.html#negmas.preferences.LinearAdditiveUtilityFunction) representing the **opponent's** utility function. You can access this also as `self.private_info[\"opponent_ufun\"]`. This utility function will have a zero reserved value indepdendent of the opponent's true reserved value. You can actually set the reserved value on this object to your best estimate. All ufun funcationality is available in this object.\n",
    "\n",
    "\n",
    "Other than these objects, your negotiator can access any of the analytic facilities available in NegMAS. For example, you can calculate the [pareto_frontier](https://negmas.readthedocs.io/en/latest/api/negmas.preferences.pareto_frontier.html), [Nash Bargaining Soluion](https://negmas.readthedocs.io/en/latest/api/negmas.preferences.nash_points.html), [Kalai Bargaining Solution](https://negmas.readthedocs.io/en/latest/api/negmas.preferences.kalai_points.html), [points with maximum wellfare](https://negmas.readthedocs.io/en/latest/api/negmas.preferences.max_welfare_points.html), etc. You can check the implementation of the [NashSeeker](https://github.com/yasserfarouk/anl/blob/main/src/anl/anl2024/negotiators/builtins/nash_seeker.py) agent for examples of using these facilities.\n",
    "\n",
    "\n",
    "Other than implementing the `__call__`, method you can optionally implement one or more of the following callbacks to initialize your agent:\n",
    "\n",
    "- `on_negotiation_start(state: SAOState)` This [callback](https://negmas.readthedocs.io/en/latest/api/negmas.negotiators.EvaluatorNegotiator.html#negmas.negotiators.EvaluatorNegotiator.on_negotiation_start) is called once per negotiation after the ufuns are set but before any offers are exchanged.\n",
    "- `on_preferences_changed(changes)` This [callback](https://negmas.readthedocs.io/en/latest/api/negmas.negotiators.EvaluatorNegotiator.html#negmas.negotiators.EvaluatorNegotiator.on_preferences_changed) is called **whenever** your negotiator's ufun is changed. This will happen at the beginning of each negotiation but it can also happen again if the ufun is changed **while the negotiation is running**. In ANL 2024, ufuns never change during the negotiation so this callback is equivalent to `on_negotiation_start()` but for future proofness, you should use this callback for any initialization instead to guarantee that this initialization will be re-run in cases of changing utility function.\n",
    "\n",
    "## Understanding our negotiator\n",
    "\n",
    "Now we can analyze the simple random negotiator we developed earlier.\n",
    "\n",
    "- Firstly, we find the current offer that we need to respond to:\n",
    "  ```python\n",
    "  offer = state.current_offer\n",
    "  ```\n",
    "- **Acceptance Strategy** We then accept this offer if three conditions are satisfied:\n",
    "  - The offer is not `None` which means that we are not starting the negotiation just now:\n",
    "  - The offer is not worse than disagreement. This prevents us from accepting irrational outcomes.\n",
    "  - A random number we generated is less than 0.25. This means we accept rational offers with probability 25%.\n",
    "    ```python\n",
    "    if offer is not None and self.ufun.is_not_worse(offer, None) and random.random() < 0.25:\n",
    "        return SAOResponse(ResponseType.ACCEPT_OFFER, offer)\n",
    "    ```\n",
    "- **Offering Strategy** If we decided not to accept the offer, we simply generate a single random outcome and offer it:\n",
    "  ```python\n",
    "  return SAOResponse(ResponseType.REJECT_OFFER, self.nmi.random_outcomes(1)[0])\n",
    "  ```\n",
    "  \n",
    "This negotiator did not use the fact that we know the opponent utility function up to reserved value. It did not even use the fact that we know our *own* utility function. As expected, it did not get a good score. Let's develop a simple yet more meaningful agent that uses both of these pieces of information.\n",
    "\n",
    "Can you now see why is this negotiator is getting negative advantages sometimes? We were careful in our acceptance strategy but not in our *offering strategy*. There is nothing in our code that prevents our negotiator from offering irrational outcomes (i.e. outcomes worse than disagreement for itself) and sometimes the opponent will just accept those. Can you fix this?\n",
    "\n",
    "## A more meaningful negotiator\n",
    "\n",
    "How can we use knowledge of our own and our opponent's utility functions (up to reserved value for them)? Here is one possibility: \n",
    "\n",
    "- **Acceptance Strategy** We accept offers that have a utility above some *aspiration* level. This aspiration level starts very high (1.0) and goes monotoncially down but never under the reserved value which is reached when the relative time is 1.0 (i.e. by the end of the negotiation). This is implemented in `is_acceptable()` below.\n",
    "- **Opponent Modeling** We estimate the opponent reserved value under the assumption that they are using a monotonically decreasing curve to select a utility value and offer an outcome around it. This is implemented in `update_reserved_value()` below.\n",
    "\n",
    "- **Offering Strategy** Once we have an estimate of their reserved value, we can then find out all outcomes that are rational for both we and them. We can then check the relative time of the negotiation and offer outcomes by conceding over this list of rational outcomes. This is implemented in the `__call__()` method below."
   ]
  },
  {
   "cell_type": "code",
   "execution_count": 9,
   "id": "9b2f951b",
   "metadata": {},
   "outputs": [],
   "source": [
    "def aspiration_function(t, mx, rv, e):\n",
    "    \"\"\"A monotonically decreasing curve starting at mx (t=0) and ending at rv (t=1)\"\"\"\n",
    "    return (mx - rv) * (1.0 - np.power(t, e)) + rv\n",
    "\n",
    "\n",
    "class SimpleRVFitter(SAONegotiator):\n",
    "    \"\"\"A simple curve fitting modeling agent\"\"\"\n",
    "    def __init__(self, *args, e: float = 5.0, **kwargs):\n",
    "        \"\"\"Initialization\"\"\"\n",
    "        super().__init__(*args, **kwargs)\n",
    "        self.e = e        \n",
    "        # keeps track of times at which the opponent offers\n",
    "        self.opponent_times: list[float] = []\n",
    "        # keeps track of opponent utilities of its offers\n",
    "        self.opponent_utilities: list[float] = []\n",
    "        # keeps track of the our last estimate of the opponent reserved value\n",
    "        self._past_oppnent_rv = 0.0\n",
    "        # keeps track of the rational outcome set given our estimate of the\n",
    "        # opponent reserved value and our knowledge of ours\n",
    "        self._rational: list[tuple[float, float, Outcome]] = []\n",
    "\n",
    "    def __call__(self, state):\n",
    "        # update the opponent reserved value in self.opponent_ufun\n",
    "        self.update_reserved_value(state)\n",
    "        # rune the acceptance strategy and if the offer received is acceptable, accept it\n",
    "        if self.is_acceptable(state):\n",
    "            return SAOResponse(ResponseType.ACCEPT_OFFER, state.current_offer)\n",
    "        # The offering strategy\n",
    "        # We only update our estimate of the rational list of outcomes if it is not set or\n",
    "        # there is a change in estimated reserved value\n",
    "        if (\n",
    "            not self._rational\n",
    "            or abs(self.opponent_ufun.reserved_value - self._past_oppnent_rv) > 1e-3\n",
    "        ):\n",
    "            # The rational set of outcomes sorted dependingly according to our utility function\n",
    "            # and the opponent utility function (in that order).\n",
    "            self._rational = sorted(\n",
    "                [\n",
    "                    (my_util, opp_util, _)\n",
    "                    for _ in self.nmi.outcome_space.enumerate_or_sample(\n",
    "                        levels=10, max_cardinality=100_000\n",
    "                    )\n",
    "                    if (my_util := float(self.ufun(_))) > self.ufun.reserved_value\n",
    "                    and (opp_util := float(self.opponent_ufun(_)))\n",
    "                    > self.opponent_ufun.reserved_value\n",
    "                ],\n",
    "            )\n",
    "        # If there are no rational outcomes (i.e. our estimate of the opponent rv is very wrogn),\n",
    "        # then just revert to offering our top offer\n",
    "        if not self._rational:\n",
    "            return SAOResponse(ResponseType.REJECT_OFFER, self.ufun.best())\n",
    "        # find our aspiration level (value between 0 and 1) the higher the higher utility we require\n",
    "        asp = aspiration_function(state.relative_time, 1.0, 0.0, self.e)\n",
    "        # find the index of the rational outcome at the aspiration level (in the rational set of outcomes)\n",
    "        max_rational = len(self._rational) - 1\n",
    "        indx = max(0, min(max_rational, int(asp * max_rational)))        \n",
    "        outcome = self._rational[indx][-1]\n",
    "        return SAOResponse(ResponseType.REJECT_OFFER, outcome)\n",
    "\n",
    "    def is_acceptable(self, state) -> bool:\n",
    "        \"\"\"The acceptance strategy\"\"\"\n",
    "        # get the offer from the mechanism state\n",
    "        offer = state.current_offer\n",
    "        # If there is no offer, there is nothing to accept\n",
    "        if offer is None:\n",
    "            return False\n",
    "        # Find the current aspiration level\n",
    "        asp = aspiration_function(\n",
    "            state.relative_time, 1.0, self.ufun.reserved_value, self.e\n",
    "        )\n",
    "        # accept if the utility of the received offer is higher than\n",
    "        # the current aspiration\n",
    "        return float(self.ufun(offer)) >= asp\n",
    "\n",
    "    def update_reserved_value(self, state):\n",
    "        \"\"\"Learns the reserved value of the partner\"\"\"\n",
    "        # extract the current offer from the state\n",
    "        offer = state.current_offer\n",
    "        if offer is None:\n",
    "            return\n",
    "        # save to the list of utilities received from the opponent and their times\n",
    "        self.opponent_utilities.append(float(self.opponent_ufun(offer)))\n",
    "        self.opponent_times.append(state.relative_time)\n",
    "        # Use curve fitting to estimate the opponent reserved value\n",
    "        # We assume the following:\n",
    "        # - The opponent is using a concession strategy with an exponent between 0.2, 5.0\n",
    "        # - The opponent never offers outcomes lower than their reserved value which means\n",
    "        #   that their rv must be no higher than the worst outcome they offered for themselves.\n",
    "        bounds = ((0.2, 0.0), (5.0, min(self.opponent_utilities)))\n",
    "        err = \"\"\n",
    "        try:\n",
    "            optimal_vals, _ = curve_fit(\n",
    "                lambda x, e, rv: aspiration_function(\n",
    "                    x, self.opponent_utilities[0], rv, e\n",
    "                ),\n",
    "                self.opponent_times,\n",
    "                self.opponent_utilities,\n",
    "                bounds=bounds,\n",
    "            )\n",
    "            self._past_oppnent_rv = self.opponent_ufun.reserved_value\n",
    "            self.opponent_ufun.reserved_value = optimal_vals[1]\n",
    "        except Exception as e:\n",
    "            err, optimal_vals = f\"{str(e)}\", [None, None]"
   ]
  },
  {
   "cell_type": "code",
   "execution_count": 10,
   "id": "74082ac2",
   "metadata": {},
   "outputs": [
    {
     "data": {
      "text/html": [
       "<pre style=\"white-space:pre;overflow-x:auto;line-height:normal;font-family:Menlo,'DejaVu Sans Mono',consolas,'Courier New',monospace\">Will run <span style=\"color: #008080; text-decoration-color: #008080; font-weight: bold\">48</span> negotiations on <span style=\"color: #008080; text-decoration-color: #008080; font-weight: bold\">1</span> scenarios between <span style=\"color: #008080; text-decoration-color: #008080; font-weight: bold\">4</span> competitors\n",
       "</pre>\n"
      ],
      "text/plain": [
       "Will run \u001b[1;36m48\u001b[0m negotiations on \u001b[1;36m1\u001b[0m scenarios between \u001b[1;36m4\u001b[0m competitors\n"
      ]
     },
     "metadata": {},
     "output_type": "display_data"
    },
    {
     "data": {
      "application/vnd.jupyter.widget-view+json": {
       "model_id": "47e89166b2314f6cb7128ab4c60ca0ea",
       "version_major": 2,
       "version_minor": 0
      },
      "text/plain": [
       "Output()"
      ]
     },
     "metadata": {},
     "output_type": "display_data"
    },
    {
     "data": {
      "text/html": [
       "<pre style=\"white-space:pre;overflow-x:auto;line-height:normal;font-family:Menlo,'DejaVu Sans Mono',consolas,'Courier New',monospace\"></pre>\n"
      ],
      "text/plain": []
     },
     "metadata": {},
     "output_type": "display_data"
    },
    {
     "data": {
      "text/html": [
       "<pre style=\"white-space:pre;overflow-x:auto;line-height:normal;font-family:Menlo,'DejaVu Sans Mono',consolas,'Courier New',monospace\">\n",
       "</pre>\n"
      ],
      "text/plain": [
       "\n"
      ]
     },
     "metadata": {},
     "output_type": "display_data"
    },
    {
     "data": {
      "text/html": [
       "<pre style=\"white-space:pre;overflow-x:auto;line-height:normal;font-family:Menlo,'DejaVu Sans Mono',consolas,'Courier New',monospace\">             strategy     score\n",
       "<span style=\"color: #008080; text-decoration-color: #008080; font-weight: bold\">0</span>            Boulware  <span style=\"color: #008080; text-decoration-color: #008080; font-weight: bold\">0.563245</span>\n",
       "<span style=\"color: #008080; text-decoration-color: #008080; font-weight: bold\">1</span>      SimpleRVFitter  <span style=\"color: #008080; text-decoration-color: #008080; font-weight: bold\">0.499131</span>\n",
       "<span style=\"color: #008080; text-decoration-color: #008080; font-weight: bold\">2</span>            Conceder  <span style=\"color: #008080; text-decoration-color: #008080; font-weight: bold\">0.293628</span>\n",
       "<span style=\"color: #008080; text-decoration-color: #008080; font-weight: bold\">3</span>  MyRandomNegotiator <span style=\"color: #008080; text-decoration-color: #008080; font-weight: bold\">-0.059815</span>\n",
       "</pre>\n"
      ],
      "text/plain": [
       "             strategy     score\n",
       "\u001b[1;36m0\u001b[0m            Boulware  \u001b[1;36m0.563245\u001b[0m\n",
       "\u001b[1;36m1\u001b[0m      SimpleRVFitter  \u001b[1;36m0.499131\u001b[0m\n",
       "\u001b[1;36m2\u001b[0m            Conceder  \u001b[1;36m0.293628\u001b[0m\n",
       "\u001b[1;36m3\u001b[0m  MyRandomNegotiator \u001b[1;36m-0.059815\u001b[0m\n"
      ]
     },
     "metadata": {},
     "output_type": "display_data"
    },
    {
     "data": {
      "text/html": [
       "<div>\n",
       "<style scoped>\n",
       "    .dataframe tbody tr th:only-of-type {\n",
       "        vertical-align: middle;\n",
       "    }\n",
       "\n",
       "    .dataframe tbody tr th {\n",
       "        vertical-align: top;\n",
       "    }\n",
       "\n",
       "    .dataframe thead th {\n",
       "        text-align: right;\n",
       "    }\n",
       "</style>\n",
       "<table border=\"1\" class=\"dataframe\">\n",
       "  <thead>\n",
       "    <tr style=\"text-align: right;\">\n",
       "      <th></th>\n",
       "      <th>strategy</th>\n",
       "      <th>score</th>\n",
       "    </tr>\n",
       "  </thead>\n",
       "  <tbody>\n",
       "    <tr>\n",
       "      <th>0</th>\n",
       "      <td>Boulware</td>\n",
       "      <td>0.563245</td>\n",
       "    </tr>\n",
       "    <tr>\n",
       "      <th>1</th>\n",
       "      <td>SimpleRVFitter</td>\n",
       "      <td>0.499131</td>\n",
       "    </tr>\n",
       "    <tr>\n",
       "      <th>2</th>\n",
       "      <td>Conceder</td>\n",
       "      <td>0.293628</td>\n",
       "    </tr>\n",
       "    <tr>\n",
       "      <th>3</th>\n",
       "      <td>MyRandomNegotiator</td>\n",
       "      <td>-0.059815</td>\n",
       "    </tr>\n",
       "  </tbody>\n",
       "</table>\n",
       "</div>"
      ],
      "text/plain": [
       "             strategy     score\n",
       "0            Boulware  0.563245\n",
       "1      SimpleRVFitter  0.499131\n",
       "2            Conceder  0.293628\n",
       "3  MyRandomNegotiator -0.059815"
      ]
     },
     "execution_count": 10,
     "metadata": {},
     "output_type": "execute_result"
    }
   ],
   "source": [
    "anl2024_tournament(\n",
    "    n_scenarios=1, n_repetitions=3, nologs=True, njobs=-1,\n",
    "    competitors=[MyRandomNegotiator, SimpleRVFitter, Boulware, Conceder]\n",
    ").final_scores"
   ]
  },
  {
   "cell_type": "markdown",
   "id": "4cb41219",
   "metadata": {},
   "source": [
    "Much better :-)"
   ]
  },
  {
   "cell_type": "code",
   "execution_count": null,
   "id": "1b9460fb",
   "metadata": {},
   "outputs": [],
   "source": []
  }
 ],
 "metadata": {
  "celltoolbar": "Tags",
  "kernelspec": {
   "display_name": "anl",
   "language": "python",
   "name": "anl"
  },
  "language_info": {
   "codemirror_mode": {
    "name": "ipython",
    "version": 3
   },
   "file_extension": ".py",
   "mimetype": "text/x-python",
   "name": "python",
   "nbconvert_exporter": "python",
   "pygments_lexer": "ipython3",
   "version": "3.11.6"
  },
  "latex_envs": {
   "LaTeX_envs_menu_present": true,
   "autoclose": false,
   "autocomplete": true,
   "bibliofile": "biblio.bib",
   "cite_by": "apalike",
   "current_citInitial": 1,
   "eqLabelWithNumbers": true,
   "eqNumInitial": 1,
   "hotkeys": {
    "equation": "Ctrl-E",
    "itemize": "Ctrl-I"
   },
   "labels_anchors": false,
   "latex_user_defs": false,
   "report_style_numbering": false,
   "user_envs_cfg": false
  },
  "papermill": {
   "default_parameters": {},
   "duration": 540.812939,
   "end_time": "2022-02-16T09:26:02.642361",
   "environment_variables": {},
   "exception": null,
   "input_path": "/Users/yasser/code/projects/anl/notebooks/tutorials/01.run_anl2020.ipynb",
   "output_path": "/Users/yasser/code/projects/anl/notebooks/tutorials/01.run_anl2020.ipynb",
   "parameters": {},
   "start_time": "2022-02-16T09:17:01.829422",
   "version": "2.3.4"
  },
  "toc": {
   "base_numbering": 1,
   "nav_menu": {},
   "number_sections": true,
   "sideBar": true,
   "skip_h1_title": false,
   "title_cell": "Table of Contents",
   "title_sidebar": "Contents",
   "toc_cell": false,
   "toc_position": {},
   "toc_section_display": true,
   "toc_window_display": false
  },
  "varInspector": {
   "cols": {
    "lenName": 16,
    "lenType": 16,
    "lenVar": 40
   },
   "kernels_config": {
    "python": {
     "delete_cmd_postfix": "",
     "delete_cmd_prefix": "del ",
     "library": "var_list.py",
     "varRefreshCmd": "print(var_dic_list())"
    },
    "r": {
     "delete_cmd_postfix": ") ",
     "delete_cmd_prefix": "rm(",
     "library": "var_list.r",
     "varRefreshCmd": "cat(var_dic_list()) "
    }
   },
   "types_to_exclude": [
    "module",
    "function",
    "builtin_function_or_method",
    "instance",
    "_Feature"
   ],
   "window_display": false
  },
  "widgets": {
   "application/vnd.jupyter.widget-state+json": {
    "state": {
     "2cadc33b26404616ae0a695fd33d2ca8": {
      "model_module": "@jupyter-widgets/base",
      "model_module_version": "1.2.0",
      "model_name": "LayoutModel",
      "state": {
       "_model_module": "@jupyter-widgets/base",
       "_model_module_version": "1.2.0",
       "_model_name": "LayoutModel",
       "_view_count": null,
       "_view_module": "@jupyter-widgets/base",
       "_view_module_version": "1.2.0",
       "_view_name": "LayoutView",
       "align_content": null,
       "align_items": null,
       "align_self": null,
       "border": null,
       "bottom": null,
       "display": null,
       "flex": null,
       "flex_flow": null,
       "grid_area": null,
       "grid_auto_columns": null,
       "grid_auto_flow": null,
       "grid_auto_rows": null,
       "grid_column": null,
       "grid_gap": null,
       "grid_row": null,
       "grid_template_areas": null,
       "grid_template_columns": null,
       "grid_template_rows": null,
       "height": null,
       "justify_content": null,
       "justify_items": null,
       "left": null,
       "margin": null,
       "max_height": null,
       "max_width": null,
       "min_height": null,
       "min_width": null,
       "object_fit": null,
       "object_position": null,
       "order": null,
       "overflow": null,
       "overflow_x": null,
       "overflow_y": null,
       "padding": null,
       "right": null,
       "top": null,
       "visibility": null,
       "width": null
      }
     },
     "4368ae6360eb453aaf61f264839b0ddb": {
      "model_module": "@jupyter-widgets/base",
      "model_module_version": "1.2.0",
      "model_name": "LayoutModel",
      "state": {
       "_model_module": "@jupyter-widgets/base",
       "_model_module_version": "1.2.0",
       "_model_name": "LayoutModel",
       "_view_count": null,
       "_view_module": "@jupyter-widgets/base",
       "_view_module_version": "1.2.0",
       "_view_name": "LayoutView",
       "align_content": null,
       "align_items": null,
       "align_self": null,
       "border": null,
       "bottom": null,
       "display": null,
       "flex": null,
       "flex_flow": null,
       "grid_area": null,
       "grid_auto_columns": null,
       "grid_auto_flow": null,
       "grid_auto_rows": null,
       "grid_column": null,
       "grid_gap": null,
       "grid_row": null,
       "grid_template_areas": null,
       "grid_template_columns": null,
       "grid_template_rows": null,
       "height": null,
       "justify_content": null,
       "justify_items": null,
       "left": null,
       "margin": null,
       "max_height": null,
       "max_width": null,
       "min_height": null,
       "min_width": null,
       "object_fit": null,
       "object_position": null,
       "order": null,
       "overflow": null,
       "overflow_x": null,
       "overflow_y": null,
       "padding": null,
       "right": null,
       "top": null,
       "visibility": null,
       "width": "20px"
      }
     },
     "485a093637284ec28170f816ecd1fa92": {
      "model_module": "@jupyter-widgets/controls",
      "model_module_version": "1.5.0",
      "model_name": "ProgressStyleModel",
      "state": {
       "_model_module": "@jupyter-widgets/controls",
       "_model_module_version": "1.5.0",
       "_model_name": "ProgressStyleModel",
       "_view_count": null,
       "_view_module": "@jupyter-widgets/base",
       "_view_module_version": "1.2.0",
       "_view_name": "StyleView",
       "bar_color": null,
       "description_width": ""
      }
     },
     "75d848742bcd4d8cb56a5457a57698c7": {
      "model_module": "@jupyter-widgets/base",
      "model_module_version": "1.2.0",
      "model_name": "LayoutModel",
      "state": {
       "_model_module": "@jupyter-widgets/base",
       "_model_module_version": "1.2.0",
       "_model_name": "LayoutModel",
       "_view_count": null,
       "_view_module": "@jupyter-widgets/base",
       "_view_module_version": "1.2.0",
       "_view_name": "LayoutView",
       "align_content": null,
       "align_items": null,
       "align_self": null,
       "border": null,
       "bottom": null,
       "display": null,
       "flex": null,
       "flex_flow": null,
       "grid_area": null,
       "grid_auto_columns": null,
       "grid_auto_flow": null,
       "grid_auto_rows": null,
       "grid_column": null,
       "grid_gap": null,
       "grid_row": null,
       "grid_template_areas": null,
       "grid_template_columns": null,
       "grid_template_rows": null,
       "height": null,
       "justify_content": null,
       "justify_items": null,
       "left": null,
       "margin": null,
       "max_height": null,
       "max_width": null,
       "min_height": null,
       "min_width": null,
       "object_fit": null,
       "object_position": null,
       "order": null,
       "overflow": null,
       "overflow_x": null,
       "overflow_y": null,
       "padding": null,
       "right": null,
       "top": null,
       "visibility": null,
       "width": null
      }
     },
     "83b5f1069c86434ba8abb01460027b86": {
      "model_module": "@jupyter-widgets/controls",
      "model_module_version": "1.5.0",
      "model_name": "HTMLModel",
      "state": {
       "_dom_classes": [],
       "_model_module": "@jupyter-widgets/controls",
       "_model_module_version": "1.5.0",
       "_model_name": "HTMLModel",
       "_view_count": null,
       "_view_module": "@jupyter-widgets/controls",
       "_view_module_version": "1.5.0",
       "_view_name": "HTMLView",
       "description": "",
       "description_tooltip": null,
       "layout": "IPY_MODEL_2cadc33b26404616ae0a695fd33d2ca8",
       "placeholder": "​",
       "style": "IPY_MODEL_e9a077f7f68245d5b476e84fe61b2518",
       "value": ""
      }
     },
     "ad16d5ccfae94a6bab53b1e4f0d3b2fd": {
      "model_module": "@jupyter-widgets/base",
      "model_module_version": "1.2.0",
      "model_name": "LayoutModel",
      "state": {
       "_model_module": "@jupyter-widgets/base",
       "_model_module_version": "1.2.0",
       "_model_name": "LayoutModel",
       "_view_count": null,
       "_view_module": "@jupyter-widgets/base",
       "_view_module_version": "1.2.0",
       "_view_name": "LayoutView",
       "align_content": null,
       "align_items": null,
       "align_self": null,
       "border": null,
       "bottom": null,
       "display": null,
       "flex": null,
       "flex_flow": null,
       "grid_area": null,
       "grid_auto_columns": null,
       "grid_auto_flow": null,
       "grid_auto_rows": null,
       "grid_column": null,
       "grid_gap": null,
       "grid_row": null,
       "grid_template_areas": null,
       "grid_template_columns": null,
       "grid_template_rows": null,
       "height": null,
       "justify_content": null,
       "justify_items": null,
       "left": null,
       "margin": null,
       "max_height": null,
       "max_width": null,
       "min_height": null,
       "min_width": null,
       "object_fit": null,
       "object_position": null,
       "order": null,
       "overflow": null,
       "overflow_x": null,
       "overflow_y": null,
       "padding": null,
       "right": null,
       "top": null,
       "visibility": null,
       "width": null
      }
     },
     "ae6ea78135ea49e79f65ded1eb5873f5": {
      "model_module": "@jupyter-widgets/controls",
      "model_module_version": "1.5.0",
      "model_name": "DescriptionStyleModel",
      "state": {
       "_model_module": "@jupyter-widgets/controls",
       "_model_module_version": "1.5.0",
       "_model_name": "DescriptionStyleModel",
       "_view_count": null,
       "_view_module": "@jupyter-widgets/base",
       "_view_module_version": "1.2.0",
       "_view_name": "StyleView",
       "description_width": ""
      }
     },
     "d8c3b6c0996640e8aa5ff137cf69e906": {
      "model_module": "@jupyter-widgets/controls",
      "model_module_version": "1.5.0",
      "model_name": "HBoxModel",
      "state": {
       "_dom_classes": [],
       "_model_module": "@jupyter-widgets/controls",
       "_model_module_version": "1.5.0",
       "_model_name": "HBoxModel",
       "_view_count": null,
       "_view_module": "@jupyter-widgets/controls",
       "_view_module_version": "1.5.0",
       "_view_name": "HBoxView",
       "box_style": "",
       "children": [
        "IPY_MODEL_83b5f1069c86434ba8abb01460027b86",
        "IPY_MODEL_f0bfa51dd65f45e89d271167128606e3",
        "IPY_MODEL_f3955f11b376489287a5e30e241fcee1"
       ],
       "layout": "IPY_MODEL_75d848742bcd4d8cb56a5457a57698c7"
      }
     },
     "e9a077f7f68245d5b476e84fe61b2518": {
      "model_module": "@jupyter-widgets/controls",
      "model_module_version": "1.5.0",
      "model_name": "DescriptionStyleModel",
      "state": {
       "_model_module": "@jupyter-widgets/controls",
       "_model_module_version": "1.5.0",
       "_model_name": "DescriptionStyleModel",
       "_view_count": null,
       "_view_module": "@jupyter-widgets/base",
       "_view_module_version": "1.2.0",
       "_view_name": "StyleView",
       "description_width": ""
      }
     },
     "f0bfa51dd65f45e89d271167128606e3": {
      "model_module": "@jupyter-widgets/controls",
      "model_module_version": "1.5.0",
      "model_name": "FloatProgressModel",
      "state": {
       "_dom_classes": [],
       "_model_module": "@jupyter-widgets/controls",
       "_model_module_version": "1.5.0",
       "_model_name": "FloatProgressModel",
       "_view_count": null,
       "_view_module": "@jupyter-widgets/controls",
       "_view_module_version": "1.5.0",
       "_view_name": "ProgressView",
       "bar_style": "info",
       "description": "",
       "description_tooltip": null,
       "layout": "IPY_MODEL_4368ae6360eb453aaf61f264839b0ddb",
       "max": 1,
       "min": 0,
       "orientation": "horizontal",
       "style": "IPY_MODEL_485a093637284ec28170f816ecd1fa92",
       "value": 0
      }
     },
     "f3955f11b376489287a5e30e241fcee1": {
      "model_module": "@jupyter-widgets/controls",
      "model_module_version": "1.5.0",
      "model_name": "HTMLModel",
      "state": {
       "_dom_classes": [],
       "_model_module": "@jupyter-widgets/controls",
       "_model_module_version": "1.5.0",
       "_model_name": "HTMLModel",
       "_view_count": null,
       "_view_module": "@jupyter-widgets/controls",
       "_view_module_version": "1.5.0",
       "_view_name": "HTMLView",
       "description": "",
       "description_tooltip": null,
       "layout": "IPY_MODEL_ad16d5ccfae94a6bab53b1e4f0d3b2fd",
       "placeholder": "​",
       "style": "IPY_MODEL_ae6ea78135ea49e79f65ded1eb5873f5",
       "value": " 0/? [00:00&lt;?, ?it/s]"
      }
     }
    },
    "version_major": 2,
    "version_minor": 0
   }
  }
 },
 "nbformat": 4,
 "nbformat_minor": 5
}
